{
 "cells": [
  {
   "cell_type": "markdown",
   "metadata": {},
   "source": [
    "\n",
    "## Monk and Inversions\n",
    "\n",
    "#### Monk's best friend Micro, who happen to be an awesome programmer, got him an integer matrix M of size for his birthday. Monk is taking coding classes from Micro. They have just completed array inversions and Monk was successful in writing a program to count the number of inversions in an array. Now, Micro has asked Monk to find out the number of inversion in the matrix M. Number of inversions, in a matrix is defined as the number of unordered pairs of cells such that \n",
    ".\n",
    "#### Monk is facing a little trouble with this task and since you did not got him any birthday gift, you need to help him with this task.\n",
    "\n",
    "- Video approach to solve this question: here\n",
    "\n",
    "### Input:\n",
    "#### First line consists of a single integer T denoting the number of test cases.\n",
    "#### First line of each test case consists of one integer denoting N. Following N lines consists of N space separated integers denoting the matrix M.\n",
    "\n",
    "### Output:\n",
    "#### Print the answer to each test case in a new line.\n",
    "\n",
    "Constraints:\n",
    "\n",
    "\n",
    "\n",
    "Sample Input\n",
    "2\n",
    "3\n",
    "1 2 3\n",
    "4 5 6\n",
    "7 8 9\n",
    "2\n",
    "4 3\n",
    "1 4\n",
    "Sample Output\n",
    "0\n",
    "2\n",
    "Explanation\n",
    "In first test case there is no pair of cells \n",
    ", \n",
    ", \n",
    " having \n",
    ", so the answer is 0.\n",
    "In second test case \n",
    " and \n",
    ", so the answer is 2.\n",
    "\n",
    "Time Limit: 1.0 sec(s) for each input file\n",
    "Memory Limit: 256 MB\n",
    "Source Limit: 1024 KB"
   ]
  },
  {
   "cell_type": "code",
   "execution_count": 24,
   "metadata": {},
   "outputs": [
    {
     "name": "stdout",
     "output_type": "stream",
     "text": [
      "2\n"
     ]
    }
   ],
   "source": [
    "import numpy as np\n",
    "\n",
    "def ip_int():\n",
    "    return int(input())\n",
    "\n",
    "def mtx_ip(size):\n",
    "    return np.array([list(map(int, input().split())) for __ in range(size)])\n",
    "\n",
    "def mx_chk(matrix):\n",
    "    if np.shape(matrix) == (1,):\n",
    "        return 0\n",
    "    mx = np.where(matrix < matrix[0, 0], 1, 0)\n",
    "    return int(mx.sum())\n",
    "\n",
    "\n",
    "mtx_cnt = ip_int()\n",
    "res = []\n",
    "\n",
    "for _ in range(mtx_cnt):\n",
    "    count = 0\n",
    "    size = ip_int()\n",
    "    matrix = mtx_ip(size=size)\n",
    "    for i in range(size):\n",
    "        for j in range(size):\n",
    "            count += mx_chk(matrix[i:,j:])\n",
    "    res.append(count)\n",
    "\n",
    "for val in res:\n",
    "    print(val)"
   ]
  },
  {
   "cell_type": "code",
   "execution_count": 6,
   "metadata": {},
   "outputs": [],
   "source": [
    "tt = np.array([1])"
   ]
  },
  {
   "cell_type": "code",
   "execution_count": 8,
   "metadata": {},
   "outputs": [
    {
     "data": {
      "text/plain": [
       "(1,)"
      ]
     },
     "execution_count": 8,
     "metadata": {},
     "output_type": "execute_result"
    }
   ],
   "source": [
    "tt.shape"
   ]
  },
  {
   "cell_type": "code",
   "execution_count": 9,
   "metadata": {},
   "outputs": [],
   "source": [
    "tt1 = (1,)"
   ]
  },
  {
   "cell_type": "code",
   "execution_count": 10,
   "metadata": {},
   "outputs": [
    {
     "data": {
      "text/plain": [
       "(1,)"
      ]
     },
     "execution_count": 10,
     "metadata": {},
     "output_type": "execute_result"
    }
   ],
   "source": [
    "tt1"
   ]
  },
  {
   "cell_type": "code",
   "execution_count": null,
   "metadata": {},
   "outputs": [],
   "source": []
  }
 ],
 "metadata": {
  "kernelspec": {
   "display_name": "base",
   "language": "python",
   "name": "python3"
  },
  "language_info": {
   "codemirror_mode": {
    "name": "ipython",
    "version": 3
   },
   "file_extension": ".py",
   "mimetype": "text/x-python",
   "name": "python",
   "nbconvert_exporter": "python",
   "pygments_lexer": "ipython3",
   "version": "3.11.9"
  }
 },
 "nbformat": 4,
 "nbformat_minor": 2
}
