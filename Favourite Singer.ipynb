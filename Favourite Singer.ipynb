{
 "cells": [
  {
   "cell_type": "markdown",
   "metadata": {},
   "source": []
  },
  {
   "cell_type": "code",
   "execution_count": null,
   "metadata": {},
   "outputs": [],
   "source": [
    "Problem\n",
    "Bob has a playlist of \n",
    " songs, each song has a singer associated with it (denoted by an integer)\n",
    "\n",
    "Favourite singer of Bob is the one whose songs are the most on the playlist\n",
    "\n",
    "Count the number of Favourite Singers of Bob\n",
    "\n",
    "Input Format \n",
    "\n",
    "The first line contains an integer N\n",
    ", denoting the number of songs in Bob's playlist.\n",
    "\n",
    "The following input contains \n",
    " integers, \n",
    " integer denoting the singer of the \n",
    " song.\n",
    "\n",
    "Output Format\n",
    "\n",
    "Output a single integer, the number of favourite singers of Bob\n",
    "\n",
    "Note: Use 64 bit data type\n",
    "\n",
    "\n",
    "\n",
    "Sample Input\n",
    "5\n",
    "1 1 2 2 4\n",
    "\n",
    "Sample Output\n",
    "2\n",
    "\n",
    "Time Limit: 1\n",
    "Memory Limit: 256\n",
    "Source Limit:\n",
    "\n",
    "Explanation\n",
    "In this example\n",
    "Songs of singer 1 and 2 appear 2 times(which is max) in this playlist \n",
    "Therefore the answer is 2"
   ]
  },
  {
   "cell_type": "code",
   "execution_count": null,
   "metadata": {},
   "outputs": [
    {
     "name": "stdout",
     "output_type": "stream",
     "text": [
      "2\n"
     ]
    }
   ],
   "source": [
    "n = int(input())\n",
    "songs = dict()\n",
    "singers = list(map(int, input().split()))\n",
    "\n",
    "for key in singers:\n",
    "    val = songs.get(key, 0)\n",
    "    songs[key] = val + 1\n",
    "\n",
    "res = list(songs.values()).count(max(songs.values()))\n",
    "\n",
    "print(res)\n",
    "\n"
   ]
  }
 ],
 "metadata": {
  "kernelspec": {
   "display_name": "base",
   "language": "python",
   "name": "python3"
  },
  "language_info": {
   "codemirror_mode": {
    "name": "ipython",
    "version": 3
   },
   "file_extension": ".py",
   "mimetype": "text/x-python",
   "name": "python",
   "nbconvert_exporter": "python",
   "pygments_lexer": "ipython3",
   "version": "3.11.9"
  }
 },
 "nbformat": 4,
 "nbformat_minor": 2
}
