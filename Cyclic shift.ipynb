{
 "cells": [
  {
   "cell_type": "markdown",
   "metadata": {},
   "source": [
    "## Cyclic shift\n",
    "#### A large binary number is represented by a string of size and comprises of and . You must perform a cyclic shift on this string. The cyclic shift operation is defined as follows:\n",
    "\n",
    "If the string \n",
    " is \n",
    ", then after performing one cyclic shift, the string becomes \n",
    ".\n",
    "You performed the shift infinite number of times and each time you recorded the value of the binary number represented by the string. The maximum binary number formed after performing (possibly \n",
    ") the operation is \n",
    ". Your task is to determine the number of cyclic shifts that can be performed such that the value represented by the string \n",
    " will be equal to \n",
    " for the \n",
    " time.\n",
    "\n",
    "Video approach to solve this question: here\n",
    "\n",
    "Input format\n",
    "\n",
    "First line: A single integer \n",
    " denoting the number of test cases\n",
    "For each test case:\n",
    "First line: Two space-separated integers \n",
    " and \n",
    "Second line: \n",
    " denoting the string\n",
    "Output format\n",
    "\n",
    "For each test case, print a single line containing one integer that represents the number of cyclic shift operations performed such that the value represented by string \n",
    " is equal to \n",
    " for the \n",
    " time.\n",
    "\n",
    "Constraints\n",
    "\n",
    "\n",
    ", for each \n",
    "\n",
    "Note: Sum of \n",
    " overall test cases does not exceed \n",
    "\n",
    "Sample Input\n",
    "2\n",
    "5 2\n",
    "10101\n",
    "6 2\n",
    "010101\n",
    "Sample Output\n",
    "9\n",
    "3\n",
    "Explanation\n",
    "For the 1st test case, the value of \n",
    " is \n",
    ". After performing \n",
    " cyclic shifts the value represented by array \n",
    " becomes equal to \n",
    " for the first time. After performing additional \n",
    " cyclic shifts the value represented by array \n",
    " becomes \n",
    "  for the second time. Hence, the answer is \n",
    "\n",
    "For the 2nd test case, the value of \n",
    " is \n",
    ". After performing \n",
    " cyclic shifts the value represented by array \n",
    " becomes equal to \n",
    " for the first time. After performing additional \n",
    " cyclic shifts the value represented by array \n",
    " becomes \n",
    " for the second time. Hence, the answer is \n",
    "\n",
    "Time Limit: 1.0 sec(s) for each input file\n",
    "Memory Limit: 256 MB\n",
    "Source Limit: 1024 KB"
   ]
  },
  {
   "cell_type": "code",
   "execution_count": 26,
   "metadata": {},
   "outputs": [
    {
     "name": "stdout",
     "output_type": "stream",
     "text": [
      "9\n"
     ]
    }
   ],
   "source": [
    "a = '1001'\n",
    "b = int(a, base=2)\n",
    "print(b)"
   ]
  },
  {
   "cell_type": "code",
   "execution_count": 27,
   "metadata": {},
   "outputs": [
    {
     "data": {
      "text/plain": [
       "18"
      ]
     },
     "execution_count": 27,
     "metadata": {},
     "output_type": "execute_result"
    }
   ],
   "source": [
    "b = b << 1\n",
    "b"
   ]
  },
  {
   "cell_type": "code",
   "execution_count": 28,
   "metadata": {},
   "outputs": [
    {
     "name": "stdout",
     "output_type": "stream",
     "text": [
      "0b10010\n"
     ]
    }
   ],
   "source": [
    "print(bin(b))"
   ]
  },
  {
   "cell_type": "code",
   "execution_count": 3,
   "metadata": {},
   "outputs": [
    {
     "name": "stdout",
     "output_type": "stream",
     "text": [
      "[2013, 2020, 2027, 2034, 2041, 2048, 2055, 2062, 2069, 2076, 2083, 2090, 2097, 2104, 2111, 2118, 2125, 2132, 2139, 2146, 2153, 2160, 2167, 2174, 2181, 2188, 2195, 2202, 2209, 2216, 2223, 2230, 2237, 2244, 2251, 2258, 2265, 2272, 2279, 2286, 2293, 2300]\n"
     ]
    }
   ],
   "source": [
    "x = 2013\n",
    "y = 2300\n",
    "\n",
    "lst = list(range(2013, 2301, 7))\n",
    "print(lst)"
   ]
  },
  {
   "cell_type": "code",
   "execution_count": null,
   "metadata": {},
   "outputs": [],
   "source": []
  }
 ],
 "metadata": {
  "kernelspec": {
   "display_name": "base",
   "language": "python",
   "name": "python3"
  },
  "language_info": {
   "codemirror_mode": {
    "name": "ipython",
    "version": 3
   },
   "file_extension": ".py",
   "mimetype": "text/x-python",
   "name": "python",
   "nbconvert_exporter": "python",
   "pygments_lexer": "ipython3",
   "version": "3.11.9"
  }
 },
 "nbformat": 4,
 "nbformat_minor": 2
}
